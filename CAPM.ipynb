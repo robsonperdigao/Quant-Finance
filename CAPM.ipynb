{
 "cells": [
  {
   "cell_type": "markdown",
   "metadata": {},
   "source": [
    "### Fórmula para calcular o CAPM de um ativo\n",
    "\n",
    "CAPM (sigla para Capital Asset Pricing Model ou Modelo de Precificação de Ativos de Capital), é um método que analisa a relação entre o risco e o retorno que é esperado de um investimento.\n",
    "\n",
    "Muito utilizado em finanças para precificar títulos de risco e gerar retornos esperados para os ativos, o CAPM determina a taxa de retorno teórica apropriada para certo ativo em relação a uma carteira de mercado diversificada."
   ]
  },
  {
   "cell_type": "markdown",
   "metadata": {},
   "source": [
    "#### Conceito"
   ]
  },
  {
   "cell_type": "markdown",
   "metadata": {},
   "source": [
    "O CAPM é baseado em suposições sobre comportamentos de investidores, distribuições de risco e retorno, e fundamentos de mercado. Ou seja, o modelo opera a partir do risco dos ativos e do custo de capital.\n",
    "\n",
    "Dessa forma, o indicador do Capital Asset Pricing Model é calculado a partir de uma fórmula, que tem como objetivo avaliar se uma ação é valorizada quando seu risco e o valor do dinheiro no tempo são comparados a seu retorno esperado.\n",
    "\n",
    "Sua autoria é de William Forsyth Sharpe, Jack Treynor, John Lintner e Jan Mossin, todos baseados no trabalho de Harry Markowitz (vencedor do Prêmio Nobel de Economia de 1990, com Sharpe e Merton Miller) sobre Teoria do Portfólio e diversificação."
   ]
  },
  {
   "cell_type": "markdown",
   "metadata": {},
   "source": [
    "#### Fórmula"
   ]
  },
  {
   "cell_type": "markdown",
   "metadata": {},
   "source": [
    "$ERi = Rf + βi (ERm – Rf)$\n",
    "\n",
    "Sendo:\n",
    "\n",
    "ERi = Retorno Esperado do Investimento (Expected Return of Investiment);\n",
    "\n",
    "Rf = Taxa Livre de Risco (Risk-free rate);\n",
    "\n",
    "βi = Beta do investimento (Beta of the investment);\n",
    "\n",
    "ERm = Retorno Esperado do Mercado (Expected Return of market);\n",
    "\n",
    "(ERm – Rf) = Prêmio de Risco de Mercado (Market risk premium).\n",
    "\n",
    "Assim, na fórmula, a taxa livre é o valor do dinheiro no tempo, e os outros componentes expressam os riscos adicionais assumidos pelo investidor."
   ]
  },
  {
   "cell_type": "markdown",
   "metadata": {},
   "source": [
    "#### Taxa livre de risco"
   ]
  },
  {
   "cell_type": "code",
   "execution_count": null,
   "metadata": {},
   "outputs": [],
   "source": [
    "rf = float(input('Qual é a taxa livre de risco? '))\n",
    "rf"
   ]
  },
  {
   "cell_type": "markdown",
   "metadata": {},
   "source": [
    "#### Beta do investimento"
   ]
  },
  {
   "cell_type": "code",
   "execution_count": null,
   "metadata": {},
   "outputs": [],
   "source": [
    "bi = float(input('input(Qual é o beta do investimento? '))\n",
    "bi"
   ]
  },
  {
   "cell_type": "markdown",
   "metadata": {},
   "source": [
    "#### Retorno esperado"
   ]
  },
  {
   "cell_type": "code",
   "execution_count": null,
   "metadata": {},
   "outputs": [],
   "source": [
    "rem = float(input('Qual é o retorno esperado do mercado? '))\n",
    "rem"
   ]
  },
  {
   "cell_type": "markdown",
   "metadata": {},
   "source": [
    "#### Cálculo do CAPM"
   ]
  },
  {
   "cell_type": "code",
   "execution_count": null,
   "metadata": {},
   "outputs": [],
   "source": [
    "premio = rem - rf\n",
    "capm = rf + (bi*(premio))\n",
    "print(f'Retorno esperado do ativo é {capm:.2f}')\n",
    "print(f'O prêmio de risco do ativo é {premio:.2f}')"
   ]
  },
  {
   "cell_type": "code",
   "execution_count": null,
   "metadata": {},
   "outputs": [],
   "source": []
  }
 ],
 "metadata": {
  "kernelspec": {
   "display_name": "Python 3",
   "language": "python",
   "name": "python3"
  },
  "language_info": {
   "codemirror_mode": {
    "name": "ipython",
    "version": 3
   },
   "file_extension": ".py",
   "mimetype": "text/x-python",
   "name": "python",
   "nbconvert_exporter": "python",
   "pygments_lexer": "ipython3",
   "version": "3.11.5"
  },
  "orig_nbformat": 4
 },
 "nbformat": 4,
 "nbformat_minor": 2
}
