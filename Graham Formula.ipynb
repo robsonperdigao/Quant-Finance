{
 "cells": [
  {
   "cell_type": "code",
   "execution_count": 45,
   "metadata": {},
   "outputs": [],
   "source": [
    "import pandas as pd\n",
    "import fundamentus as fd\n"
   ]
  },
  {
   "cell_type": "code",
   "execution_count": 31,
   "metadata": {},
   "outputs": [],
   "source": [
    "ativo = 'PETR4'"
   ]
  },
  {
   "cell_type": "code",
   "execution_count": 32,
   "metadata": {},
   "outputs": [
    {
     "data": {
      "text/html": [
       "<div>\n",
       "<style scoped>\n",
       "    .dataframe tbody tr th:only-of-type {\n",
       "        vertical-align: middle;\n",
       "    }\n",
       "\n",
       "    .dataframe tbody tr th {\n",
       "        vertical-align: top;\n",
       "    }\n",
       "\n",
       "    .dataframe thead th {\n",
       "        text-align: right;\n",
       "    }\n",
       "</style>\n",
       "<table border=\"1\" class=\"dataframe\">\n",
       "  <thead>\n",
       "    <tr style=\"text-align: right;\">\n",
       "      <th></th>\n",
       "      <th>Papel</th>\n",
       "      <th>Tipo</th>\n",
       "      <th>Empresa</th>\n",
       "      <th>Setor</th>\n",
       "      <th>Subsetor</th>\n",
       "      <th>Cotacao</th>\n",
       "      <th>Data_ult_cot</th>\n",
       "      <th>Min_52_sem</th>\n",
       "      <th>Max_52_sem</th>\n",
       "      <th>Vol_med_2m</th>\n",
       "      <th>...</th>\n",
       "      <th>Ativo_Circulante</th>\n",
       "      <th>Div_Bruta</th>\n",
       "      <th>Div_Liquida</th>\n",
       "      <th>Patrim_Liq</th>\n",
       "      <th>Receita_Liquida_12m</th>\n",
       "      <th>EBIT_12m</th>\n",
       "      <th>Lucro_Liquido_12m</th>\n",
       "      <th>Receita_Liquida_3m</th>\n",
       "      <th>EBIT_3m</th>\n",
       "      <th>Lucro_Liquido_3m</th>\n",
       "    </tr>\n",
       "  </thead>\n",
       "  <tbody>\n",
       "    <tr>\n",
       "      <th>PETR4</th>\n",
       "      <td>PETR4</td>\n",
       "      <td>PN</td>\n",
       "      <td>PETROBRAS PN</td>\n",
       "      <td>Petróleo, Gás e Biocombustíveis</td>\n",
       "      <td>Exploração, Refino e Distribuição</td>\n",
       "      <td>33.89</td>\n",
       "      <td>2023-09-15</td>\n",
       "      <td>17.40</td>\n",
       "      <td>33.89</td>\n",
       "      <td>1616370000</td>\n",
       "      <td>...</td>\n",
       "      <td>136816000000</td>\n",
       "      <td>279375000000</td>\n",
       "      <td>218390000000</td>\n",
       "      <td>370683000000</td>\n",
       "      <td>581563000000</td>\n",
       "      <td>261516000000</td>\n",
       "      <td>156375000000</td>\n",
       "      <td>113840000000</td>\n",
       "      <td>49813000000</td>\n",
       "      <td>28782000000</td>\n",
       "    </tr>\n",
       "  </tbody>\n",
       "</table>\n",
       "<p>1 rows × 48 columns</p>\n",
       "</div>"
      ],
      "text/plain": [
       "       Papel Tipo       Empresa                            Setor  \\\n",
       "PETR4  PETR4   PN  PETROBRAS PN  Petróleo, Gás e Biocombustíveis   \n",
       "\n",
       "                                Subsetor Cotacao Data_ult_cot Min_52_sem  \\\n",
       "PETR4  Exploração, Refino e Distribuição   33.89   2023-09-15      17.40   \n",
       "\n",
       "      Max_52_sem  Vol_med_2m  ...  Ativo_Circulante     Div_Bruta  \\\n",
       "PETR4      33.89  1616370000  ...      136816000000  279375000000   \n",
       "\n",
       "        Div_Liquida    Patrim_Liq Receita_Liquida_12m      EBIT_12m  \\\n",
       "PETR4  218390000000  370683000000        581563000000  261516000000   \n",
       "\n",
       "      Lucro_Liquido_12m Receita_Liquida_3m      EBIT_3m Lucro_Liquido_3m  \n",
       "PETR4      156375000000       113840000000  49813000000      28782000000  \n",
       "\n",
       "[1 rows x 48 columns]"
      ]
     },
     "execution_count": 32,
     "metadata": {},
     "output_type": "execute_result"
    }
   ],
   "source": [
    "dados_ativo = fd.get_detalhes_papel(ativo)\n",
    "dados_ativo"
   ]
  },
  {
   "cell_type": "code",
   "execution_count": 33,
   "metadata": {},
   "outputs": [],
   "source": [
    "for coluna in ['Cotacao', 'PL', 'PVP', 'LPA', 'VPA']:\n",
    "        dados_ativo[coluna] = dados_ativo[coluna].str.replace('.', '')\n",
    "        dados_ativo[coluna] = dados_ativo[coluna].str.replace(',', '.')\n",
    "        dados_ativo[coluna] = dados_ativo[coluna].str.rstrip('%').astype('float') / 100\n",
    "dados_ativo = dados_ativo[['Cotacao', 'PL', 'PVP', 'LPA', 'VPA']]"
   ]
  },
  {
   "cell_type": "code",
   "execution_count": 34,
   "metadata": {},
   "outputs": [
    {
     "data": {
      "text/html": [
       "<div>\n",
       "<style scoped>\n",
       "    .dataframe tbody tr th:only-of-type {\n",
       "        vertical-align: middle;\n",
       "    }\n",
       "\n",
       "    .dataframe tbody tr th {\n",
       "        vertical-align: top;\n",
       "    }\n",
       "\n",
       "    .dataframe thead th {\n",
       "        text-align: right;\n",
       "    }\n",
       "</style>\n",
       "<table border=\"1\" class=\"dataframe\">\n",
       "  <thead>\n",
       "    <tr style=\"text-align: right;\">\n",
       "      <th></th>\n",
       "      <th>Cotacao</th>\n",
       "      <th>PL</th>\n",
       "      <th>PVP</th>\n",
       "      <th>LPA</th>\n",
       "      <th>VPA</th>\n",
       "    </tr>\n",
       "  </thead>\n",
       "  <tbody>\n",
       "    <tr>\n",
       "      <th>PETR4</th>\n",
       "      <td>33.89</td>\n",
       "      <td>2.83</td>\n",
       "      <td>1.19</td>\n",
       "      <td>11.99</td>\n",
       "      <td>28.42</td>\n",
       "    </tr>\n",
       "  </tbody>\n",
       "</table>\n",
       "</div>"
      ],
      "text/plain": [
       "       Cotacao    PL   PVP    LPA    VPA\n",
       "PETR4    33.89  2.83  1.19  11.99  28.42"
      ]
     },
     "execution_count": 34,
     "metadata": {},
     "output_type": "execute_result"
    }
   ],
   "source": [
    "dados_ativo"
   ]
  },
  {
   "cell_type": "code",
   "execution_count": 35,
   "metadata": {},
   "outputs": [
    {
     "data": {
      "text/plain": [
       "33.89"
      ]
     },
     "execution_count": 35,
     "metadata": {},
     "output_type": "execute_result"
    }
   ],
   "source": [
    "cotacao = float(dados_ativo['Cotacao'].iloc[0])\n",
    "cotacao"
   ]
  },
  {
   "cell_type": "code",
   "execution_count": 36,
   "metadata": {},
   "outputs": [
    {
     "data": {
      "text/plain": [
       "2.83"
      ]
     },
     "execution_count": 36,
     "metadata": {},
     "output_type": "execute_result"
    }
   ],
   "source": [
    "pl_ativo = float(dados_ativo['PL'].iloc[0])\n",
    "pl_ativo"
   ]
  },
  {
   "cell_type": "code",
   "execution_count": 37,
   "metadata": {},
   "outputs": [
    {
     "data": {
      "text/plain": [
       "1.19"
      ]
     },
     "execution_count": 37,
     "metadata": {},
     "output_type": "execute_result"
    }
   ],
   "source": [
    "pvp_ativo = float(dados_ativo['PVP'].iloc[0])\n",
    "pvp_ativo"
   ]
  },
  {
   "cell_type": "code",
   "execution_count": 38,
   "metadata": {},
   "outputs": [
    {
     "data": {
      "text/plain": [
       "11.99"
      ]
     },
     "execution_count": 38,
     "metadata": {},
     "output_type": "execute_result"
    }
   ],
   "source": [
    "lpa_ativo = float(dados_ativo['LPA'].iloc[0])\n",
    "lpa_ativo"
   ]
  },
  {
   "cell_type": "code",
   "execution_count": 39,
   "metadata": {},
   "outputs": [
    {
     "data": {
      "text/plain": [
       "28.42"
      ]
     },
     "execution_count": 39,
     "metadata": {},
     "output_type": "execute_result"
    }
   ],
   "source": [
    "vpa_ativo = float(dados_ativo['VPA'].iloc[0])\n",
    "vpa_ativo"
   ]
  },
  {
   "cell_type": "code",
   "execution_count": 40,
   "metadata": {},
   "outputs": [
    {
     "data": {
      "text/plain": [
       "22.5"
      ]
     },
     "execution_count": 40,
     "metadata": {},
     "output_type": "execute_result"
    }
   ],
   "source": [
    "indice_graham = 15 * 1.5\n",
    "indice_graham"
   ]
  },
  {
   "cell_type": "code",
   "execution_count": 41,
   "metadata": {},
   "outputs": [
    {
     "data": {
      "text/plain": [
       "87.56"
      ]
     },
     "execution_count": 41,
     "metadata": {},
     "output_type": "execute_result"
    }
   ],
   "source": [
    "valor_intrinseco = round((indice_graham * lpa_ativo * vpa_ativo) ** (1/2), 2)\n",
    "valor_intrinseco"
   ]
  },
  {
   "cell_type": "code",
   "execution_count": 42,
   "metadata": {},
   "outputs": [
    {
     "data": {
      "text/plain": [
       "158.37"
      ]
     },
     "execution_count": 42,
     "metadata": {},
     "output_type": "execute_result"
    }
   ],
   "source": [
    "upside = round((valor_intrinseco / cotacao - 1) * 100, 2)\n",
    "upside"
   ]
  },
  {
   "cell_type": "code",
   "execution_count": 44,
   "metadata": {},
   "outputs": [
    {
     "name": "stdout",
     "output_type": "stream",
     "text": [
      "O potencial de upside de PETR4 é de 158.37%\n"
     ]
    }
   ],
   "source": [
    "print(f'O potencial de upside de {ativo} é de {upside}%')"
   ]
  },
  {
   "cell_type": "code",
   "execution_count": null,
   "metadata": {},
   "outputs": [],
   "source": []
  }
 ],
 "metadata": {
  "kernelspec": {
   "display_name": "Python 3",
   "language": "python",
   "name": "python3"
  },
  "language_info": {
   "codemirror_mode": {
    "name": "ipython",
    "version": 3
   },
   "file_extension": ".py",
   "mimetype": "text/x-python",
   "name": "python",
   "nbconvert_exporter": "python",
   "pygments_lexer": "ipython3",
   "version": "3.11.6"
  },
  "orig_nbformat": 4
 },
 "nbformat": 4,
 "nbformat_minor": 2
}
